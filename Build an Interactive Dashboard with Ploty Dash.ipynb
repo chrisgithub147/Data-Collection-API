{
 "cells": [
  {
   "cell_type": "markdown",
   "metadata": {},
   "source": [
    "<center>\n",
    "    <img src=\"https://cf-courses-data.s3.us.cloud-object-storage.appdomain.cloud/IBMDeveloperSkillsNetwork-DV0101EN-SkillsNetwork/labs/Module%204/logo.png\" width=\"300\" alt=\"cognitiveclass.ai logo\" />\n",
    "</center>\n"
   ]
  },
  {
   "cell_type": "markdown",
   "metadata": {},
   "source": [
    "## Build a Dashboard Application with Plotly Dash\n",
    "\n",
    "In this lab, you will be building a Plotly Dash application for users to perform interactive visual analytics on SpaceX launch data in real-time.\n",
    "\n",
    "This dashboard application contains input components such as a dropdown list and a range slider to interact with a pie chart and a scatter point chart. You will be guided to build this dashboard application via the following tasks:\n",
    "\n",
    "TASK 1: Add a Launch Site Drop-down Input Component\n",
    "TASK 2: Add a callback function to render success-pie-chart based on selected site dropdown\n",
    "TASK 3: Add a Range Slider to Select Payload\n",
    "TASK 4: Add a callback function to render the success-payload-scatter-chart scatter plot\n",
    "Note:Please take screenshots of the Dashboard and save them. Further upload your notebook to github.\n",
    "\n",
    "The github url and the screenshots are later required in the presentation slides."
   ]
  },
  {
   "cell_type": "markdown",
   "metadata": {},
   "source": [
    "## Application\n"
   ]
  },
  {
   "cell_type": "code",
   "execution_count": 59,
   "metadata": {},
   "outputs": [],
   "source": [
    "# Import required libraries\n",
    "import pandas as pd\n",
    "import dash\n",
    "import dash_html_components as html\n",
    "import dash_core_components as dcc\n",
    "from dash.dependencies import Input, Output, State\n",
    "import plotly.express as px\n",
    "\n",
    "# Read the airline data into pandas dataframe\n",
    "spacex_df = pd.read_csv(\"spacex_launch_dash.csv\")\n",
    "max_payload = spacex_df['Payload Mass (kg)'].max()\n",
    "min_payload = spacex_df['Payload Mass (kg)'].min()\n",
    "\n",
    "# Create a dash application\n",
    "app = dash.Dash(__name__)\n"
   ]
  },
  {
   "cell_type": "code",
   "execution_count": null,
   "metadata": {},
   "outputs": [],
   "source": [
    "# Create an app layout\n",
    "app.layout = html.Div(children=[html.H1('SpaceX Launch Records Dashboard',\n",
    "                                        style={'textAlign': 'center', 'color': '#503D36',\n",
    "                                               'font-size': 40}),\n",
    "                                # TASK 1: Add a dropdown list to enable Launch Site selection\n",
    "                                # The default select value is for ALL sites\n",
    "                      \t\tdcc.Dropdown(id='site-dropdown',\n",
    "                        \t\toptions=[\n",
    "                             \t\t\t{'label': 'All Sites', 'value': 'ALL'},\n",
    "                             \t\t\t{'label': 'CCAFS LC-40', 'value': 'CCAFS LC-40'},\n",
    "                             \t\t\t{'label': 'CCAFS SLC-40', 'value': 'CCAFS SLC-40'},\n",
    "                             \t\t\t{'label': 'KSC LC-39A', 'value': 'KSC LC-39A'},\n",
    "                             \t\t\t{'label': 'VAFB SLC-4E', 'value': 'VAFB SLC-4E'},\n",
    "        \t\t\t\t\t],\n",
    "\t\t\t\t\tplaceholder='Select a Launch Site here',\n",
    "\t\t\t\t\tstyle={'width': '80%', 'padding': '3px', 'font-size': '20px', 'text-align-last': 'center'},\n",
    "\t\t\t\t\tsearchable=True,\n",
    "\t\t\t\t\t),\n",
    "                                html.Br(),\n",
    "\n",
    "                                # TASK 2: Add a pie chart to show the total successful launches count for all sites\n",
    "                                # If a specific launch site was selected, show the Success vs. Failed counts for the site\n",
    "                                #html.Div(dcc.Graph(id='success-pie-chart')),\n",
    "                                html.Div([], id='success-pie-chart'),\n",
    "                                html.Br(),\n",
    "\n",
    "                                html.P(\"Payload range (Kg):\"),\n",
    "                                # TASK 3: Add a slider to select payload range\n",
    "                                #dcc.RangeSlider(id='payload-slider',...)\n",
    "\t\t\t\tdcc.RangeSlider(id='payload-slider',\n",
    "\t\t\t\t\tmin=0, max=10000, step=1000, marks={0: '0', 100: '100'}, value=[min_payload, max_payload]),\n",
    "\n",
    "                                # TASK 4: Add a scatter chart to show the correlation between payload and launch success\n",
    "                                #html.Div(dcc.Graph(id='success-payload-scatter-chart')),\n",
    "                                html.Div([], id='success-payload-scatter-chart'),\n",
    "                                ])\n",
    "\n",
    "# TASK 2:\n",
    "# Add a callback function for `site-dropdown` as input, `success-pie-chart` as output\n",
    "\n",
    "@app.callback( Output(component_id='success-pie-chart', component_property='children'),\n",
    "               Input(component_id='site-dropdown', component_property='value'),\n",
    "\t\t#State(\"success-dropdown\", \"children\")\n",
    "             )\n",
    "def get_pie_chart(entered_site):\n",
    "\tfiltered_df = spacex_df[['Launch Site', 'class']]\n",
    "\tif entered_site == 'ALL':\n",
    "\t\tprint(filtered_df)\n",
    "\t\tfig = px.pie(filtered_df, values='class', \n",
    "\t\t\tnames='Launch Site', title='Total Success Launches of ALL Sites')\n",
    "\t\treturn dcc.Graph(figure=fig)\n",
    "\telse:\n",
    "        \t# return the outcomes piechart for a selected site\n",
    "\t\tprint(entered_site)\n",
    "\t\tfiltered_df = filtered_df[filtered_df['Launch Site'] == entered_site]\n",
    "\t\tprint(filtered_df)\n",
    "\t\ttitle = 'Total Success Launches of Site ' +  entered_site\n",
    "\t\tfig = px.pie(filtered_df, values='class',\n",
    "\t\t\tnames='class', title=title)\n",
    "\t\treturn dcc.Graph(figure=fig)\n",
    "\n",
    "# TASK 4:\n",
    "# Add a callback function for `site-dropdown` and `payload-slider` as inputs, `success-payload-scatter-chart` as output\n",
    "\n",
    "@app.callback( Output(component_id='success-payload-scatter-chart', component_property='children'),\n",
    "               Input(component_id='site-dropdown', component_property='value'),\n",
    "               Input(component_id='payload-slider', component_property='value'),\n",
    "                #State(\"success-dropdown\", \"children\")\n",
    "             )\n",
    "def get_scatter_chart(entered_site, payload_range):\n",
    "\tfiltered_df = spacex_df[['Launch Site', 'class', 'Payload Mass (kg)', 'Booster Version']]\n",
    "\tprint(payload_range[0])\n",
    "\tprint(payload_range[1])\n",
    "\tfiltered_df = filtered_df[filtered_df['Payload Mass (kg)'] >= payload_range[0]]\n",
    "\tfiltered_df = filtered_df[filtered_df['Payload Mass (kg)'] <= payload_range[1]]\n",
    "\tif entered_site == 'ALL':\n",
    "\t\tprint(filtered_df)\n",
    "\t\tfig = px.scatter(\n",
    "\t\t\tfiltered_df, x=\"Payload Mass (kg)\", y=\"class\", \n",
    "\t\t\tcolor=\"Booster Version\", title=\"Correlation between Payload and Success for all Sites\")\n",
    "\t\treturn dcc.Graph(figure=fig)\n",
    "\telse:\n",
    "        \t# return the outcomes piechart for a selected site\n",
    "\t\tprint(entered_site)\n",
    "\t\tfiltered_df = filtered_df[filtered_df['Launch Site'] == entered_site]\n",
    "\t\tprint(filtered_df)\n",
    "\t\ttitle = 'Correlation between Payload and Success for ' +  entered_site\n",
    "\t\tfig = px.scatter(\n",
    "\t\t\tfiltered_df, x=\"Payload Mass (kg)\", y=\"class\", \n",
    "\t\t\tcolor=\"Booster Version\", title=title)\n",
    "\t\treturn dcc.Graph(figure=fig)\n",
    "\n",
    "# Run the app\n",
    "if __name__ == '__main__':\n",
    "    app.run_server()\n"
   ]
  },
  {
   "cell_type": "markdown",
   "metadata": {},
   "source": [
    "## Summary\n",
    "\n",
    "Congratulations for completing your dash and plotly assignment.\n",
    "\n",
    "More information about the libraries can be found [here](https://dash.plotly.com/?utm_medium=Exinfluencer&utm_source=Exinfluencer&utm_content=000026UJ&utm_term=10006555&utm_id=NA-SkillsNetwork-Channel-SkillsNetworkCoursesIBMDeveloperSkillsNetworkDV0101ENSkillsNetwork20297740-2022-01-01)\n"
   ]
  },
  {
   "cell_type": "markdown",
   "metadata": {},
   "source": [
    "## Author\n",
    "\n",
    "[Saishruthi Swaminathan](https://www.linkedin.com/in/saishruthi-swaminathan/?utm_medium=Exinfluencer&utm_source=Exinfluencer&utm_content=000026UJ&utm_term=10006555&utm_id=NA-SkillsNetwork-Channel-SkillsNetworkCoursesIBMDeveloperSkillsNetworkDV0101ENSkillsNetwork20297740-2022-01-01)\n"
   ]
  },
  {
   "cell_type": "markdown",
   "metadata": {},
   "source": [
    "## Changelog\n",
    "\n",
    "| Date       | Version | Changed by | Change Description                   |\n",
    "| ---------- | ------- | ---------- | ------------------------------------ |\n",
    "| 12-18-2020 | 1.0     | Nayef      | Added dataset link and upload to Git |\n"
   ]
  },
  {
   "cell_type": "markdown",
   "metadata": {},
   "source": [
    "## <h3 align=\"center\"> © IBM Corporation 2020. All rights reserved. <h3/>\n"
   ]
  },
  {
   "cell_type": "code",
   "execution_count": null,
   "metadata": {},
   "outputs": [],
   "source": []
  }
 ],
 "metadata": {
  "kernelspec": {
   "display_name": "Python 3",
   "language": "python",
   "name": "python3"
  },
  "language_info": {
   "codemirror_mode": {
    "name": "ipython",
    "version": 3
   },
   "file_extension": ".py",
   "mimetype": "text/x-python",
   "name": "python",
   "nbconvert_exporter": "python",
   "pygments_lexer": "ipython3",
   "version": "3.8.8"
  }
 },
 "nbformat": 4,
 "nbformat_minor": 4
}
